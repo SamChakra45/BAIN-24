{
  "nbformat": 4,
  "nbformat_minor": 0,
  "metadata": {
    "colab": {
      "provenance": [],
      "include_colab_link": true
    },
    "kernelspec": {
      "name": "python3",
      "display_name": "Python 3"
    },
    "language_info": {
      "name": "python"
    }
  },
  "cells": [
    {
      "cell_type": "markdown",
      "metadata": {
        "id": "view-in-github",
        "colab_type": "text"
      },
      "source": [
        "<a href=\"https://colab.research.google.com/github/SamChakra45/BAIN-24/blob/main/A2_220947.ipynb\" target=\"_parent\"><img src=\"https://colab.research.google.com/assets/colab-badge.svg\" alt=\"Open In Colab\"/></a>"
      ]
    },
    {
      "cell_type": "markdown",
      "source": [
        "**Question 1** : In the folowing definition of a probabilistic model:\n",
        "\n",
        "$Y \\sim \\mathcal{N}(\\mu, \\sigma)$\n",
        "\n",
        "$\\mu \\sim \\mathcal{N}(0, 2)$\n",
        "\n",
        "$\\sigma \\sim \\mathcal{halfnormal}(0.75)$\n",
        "\n",
        "1.1 - Identify the prior and the likelihood.\n",
        "\n",
        "1.2  - How many parameters will the posterior have?\n",
        "\n",
        "1.3 - Compare it with the model for the coin-flipping problem.\n",
        "\n",
        "1.4 - Write Bayes' theorem for the model.\n"
      ],
      "metadata": {
        "id": "hwM409w2WnEh"
      }
    },
    {
      "cell_type": "code",
      "execution_count": null,
      "metadata": {
        "id": "g56rGWZ7RzxG"
      },
      "outputs": [],
      "source": [
        "## Use Latex to write mathematical equations in markdown\n",
        "\n",
        "Priors:\n",
        "\n",
        "μ∼N(0,2)\n",
        "\n",
        "σ∼halfnormal(0.75)\n",
        "\n",
        "Likelihood:\n",
        "\n",
        "Y∼N(μ,σ)\n",
        "\n",
        "Model has two parameters, μ and σ.\n",
        "\n",
        "The coin flipping problem had a Beta prior, and had a discrete Binomial likelihood.\n",
        "Here, our Likelihood is Gaussian distribution and the prior is set by p(μ,σ), a halfnormal distribution.\n",
        "\n",
        "Bayes' theorem for the model:\n",
        "\n",
        "P(μ,σ|Y) ~ P(Y|μ,σ)p(μ,σ)"
      ]
    },
    {
      "cell_type": "markdown",
      "source": [
        "1.1 The prior is the joint distributions of μ and σ given by\n",
        "p(μ) ~ 𝒩(0,2) and p(σ) ~ halfnormal(0.75)\n",
        "\n",
        "The likelihood is given by P(Y|μ,σ) ~ 𝒩(μ,σ)\n",
        "\n",
        "1.2 The model has two parameters, μ and σ.\n",
        "\n",
        "1.3 Compared with the coin flipping example, here our Likelihood is Gaussian distribution and the prior is set by p(μ,σ), a halfnormal distribution.\n",
        "\n",
        "1.4\n",
        "    P(μ,σ|Y) ~ P(Y|μ,σ)p(μ,σ)\n",
        "            \n"
      ],
      "metadata": {
        "id": "lbfM8AR9INMs"
      }
    },
    {
      "cell_type": "markdown",
      "source": [
        "**Question 2**\n",
        "\n",
        "Let’s suppose that we have two coins; when we toss the first coin, half of the time it lands on tails\n",
        " and half of the time on heads. The other coin is a loaded coin that always lands on heads. If we take\n",
        " one of the coins at random and get a head, what is the probability that this coin is the unfair one?"
      ],
      "metadata": {
        "id": "8IsHvQD6WoGG"
      }
    },
    {
      "cell_type": "code",
      "source": [
        "P(Unfair|Head) = P(H|Unfair)p(unfair)/P(H)\n",
        "    = 1(1/2)/(3/4) = 2/3"
      ],
      "metadata": {
        "id": "SlOZ8Ny3TsNt"
      },
      "execution_count": null,
      "outputs": []
    },
    {
      "cell_type": "markdown",
      "source": [
        "P(Unfair|Head) = P(H|Unfair)p(unfair)/P(H)\n",
        "    = 1(1/2)/(3/4) = 2/3"
      ],
      "metadata": {
        "id": "Z3HmM2PaMQwc"
      }
    },
    {
      "cell_type": "markdown",
      "source": [
        "**Question 3**\n",
        "\n",
        "\n",
        "Using PyMC, change the parameters of the prior Beta distribution in `our_first_model` to match those of Week 2. Compare the results."
      ],
      "metadata": {
        "id": "VvxJplIpWpaN"
      }
    },
    {
      "cell_type": "code",
      "source": [
        "# Setting up the dependencies: (DONOT EDIT THE LINES BELOW)\n",
        "!pip install pymc==5.8.0 arviz==0.16.1 bambi==0.13.0 pymc-bart==0.5.2 kulprit==0.0.1 preliz==0.3.6 nutpie==0.9.1"
      ],
      "metadata": {
        "id": "RqinTikSWivK",
        "colab": {
          "base_uri": "https://localhost:8080/",
          "height": 1000
        },
        "outputId": "86c4685b-ced2-486e-ad44-f5845777fb9f"
      },
      "execution_count": null,
      "outputs": [
        {
          "output_type": "stream",
          "name": "stdout",
          "text": [
            "Collecting pymc==5.8.0\n",
            "  Downloading pymc-5.8.0-py3-none-any.whl (468 kB)\n",
            "\u001b[2K     \u001b[90m━━━━━━━━━━━━━━━━━━━━━━━━━━━━━━━━━━━━━━━━\u001b[0m \u001b[32m468.4/468.4 kB\u001b[0m \u001b[31m4.1 MB/s\u001b[0m eta \u001b[36m0:00:00\u001b[0m\n",
            "\u001b[?25hCollecting arviz==0.16.1\n",
            "  Downloading arviz-0.16.1-py3-none-any.whl (1.7 MB)\n",
            "\u001b[2K     \u001b[90m━━━━━━━━━━━━━━━━━━━━━━━━━━━━━━━━━━━━━━━━\u001b[0m \u001b[32m1.7/1.7 MB\u001b[0m \u001b[31m13.0 MB/s\u001b[0m eta \u001b[36m0:00:00\u001b[0m\n",
            "\u001b[?25hCollecting bambi==0.13.0\n",
            "  Downloading bambi-0.13.0-py3-none-any.whl (96 kB)\n",
            "\u001b[2K     \u001b[90m━━━━━━━━━━━━━━━━━━━━━━━━━━━━━━━━━━━━━━━━\u001b[0m \u001b[32m96.1/96.1 kB\u001b[0m \u001b[31m4.5 MB/s\u001b[0m eta \u001b[36m0:00:00\u001b[0m\n",
            "\u001b[?25hCollecting pymc-bart==0.5.2\n",
            "  Downloading pymc_bart-0.5.2-py3-none-any.whl (33 kB)\n",
            "Collecting kulprit==0.0.1\n",
            "  Downloading kulprit-0.0.1-py2.py3-none-any.whl (21 kB)\n",
            "Collecting preliz==0.3.6\n",
            "  Downloading preliz-0.3.6-py2.py3-none-any.whl (82 kB)\n",
            "\u001b[2K     \u001b[90m━━━━━━━━━━━━━━━━━━━━━━━━━━━━━━━━━━━━━━━━\u001b[0m \u001b[32m82.9/82.9 kB\u001b[0m \u001b[31m11.8 MB/s\u001b[0m eta \u001b[36m0:00:00\u001b[0m\n",
            "\u001b[?25hCollecting nutpie==0.9.1\n",
            "  Downloading nutpie-0.9.1-cp310-cp310-manylinux_2_28_x86_64.whl (3.7 MB)\n",
            "\u001b[2K     \u001b[90m━━━━━━━━━━━━━━━━━━━━━━━━━━━━━━━━━━━━━━━━\u001b[0m \u001b[32m3.7/3.7 MB\u001b[0m \u001b[31m20.4 MB/s\u001b[0m eta \u001b[36m0:00:00\u001b[0m\n",
            "\u001b[?25hRequirement already satisfied: cachetools>=4.2.1 in /usr/local/lib/python3.10/dist-packages (from pymc==5.8.0) (5.3.3)\n",
            "Requirement already satisfied: cloudpickle in /usr/local/lib/python3.10/dist-packages (from pymc==5.8.0) (2.2.1)\n",
            "Requirement already satisfied: fastprogress>=0.2.0 in /usr/local/lib/python3.10/dist-packages (from pymc==5.8.0) (1.0.3)\n",
            "Requirement already satisfied: numpy>=1.15.0 in /usr/local/lib/python3.10/dist-packages (from pymc==5.8.0) (1.25.2)\n",
            "Requirement already satisfied: pandas>=0.24.0 in /usr/local/lib/python3.10/dist-packages (from pymc==5.8.0) (2.0.3)\n",
            "Collecting pytensor<2.16,>=2.15.0 (from pymc==5.8.0)\n",
            "  Downloading pytensor-2.15.0-cp310-cp310-manylinux_2_17_x86_64.manylinux2014_x86_64.whl (1.9 MB)\n",
            "\u001b[2K     \u001b[90m━━━━━━━━━━━━━━━━━━━━━━━━━━━━━━━━━━━━━━━━\u001b[0m \u001b[32m1.9/1.9 MB\u001b[0m \u001b[31m26.5 MB/s\u001b[0m eta \u001b[36m0:00:00\u001b[0m\n",
            "\u001b[?25hRequirement already satisfied: scipy>=1.4.1 in /usr/local/lib/python3.10/dist-packages (from pymc==5.8.0) (1.11.4)\n",
            "Requirement already satisfied: typing-extensions>=3.7.4 in /usr/local/lib/python3.10/dist-packages (from pymc==5.8.0) (4.12.1)\n",
            "Requirement already satisfied: setuptools>=60.0.0 in /usr/local/lib/python3.10/dist-packages (from arviz==0.16.1) (67.7.2)\n",
            "Requirement already satisfied: matplotlib>=3.2 in /usr/local/lib/python3.10/dist-packages (from arviz==0.16.1) (3.7.1)\n",
            "Requirement already satisfied: packaging in /usr/local/lib/python3.10/dist-packages (from arviz==0.16.1) (24.0)\n",
            "Requirement already satisfied: xarray>=0.21.0 in /usr/local/lib/python3.10/dist-packages (from arviz==0.16.1) (2023.7.0)\n",
            "Requirement already satisfied: h5netcdf>=1.0.2 in /usr/local/lib/python3.10/dist-packages (from arviz==0.16.1) (1.3.0)\n",
            "Requirement already satisfied: xarray-einstats>=0.3 in /usr/local/lib/python3.10/dist-packages (from arviz==0.16.1) (0.7.0)\n",
            "Collecting formulae>=0.5.0 (from bambi==0.13.0)\n",
            "  Downloading formulae-0.5.3-py3-none-any.whl (53 kB)\n",
            "\u001b[2K     \u001b[90m━━━━━━━━━━━━━━━━━━━━━━━━━━━━━━━━━━━━━━━━\u001b[0m \u001b[32m53.6/53.6 kB\u001b[0m \u001b[31m7.2 MB/s\u001b[0m eta \u001b[36m0:00:00\u001b[0m\n",
            "\u001b[?25hRequirement already satisfied: graphviz in /usr/local/lib/python3.10/dist-packages (from bambi==0.13.0) (0.20.3)\n",
            "Requirement already satisfied: numba in /usr/local/lib/python3.10/dist-packages (from pymc-bart==0.5.2) (0.58.1)\n",
            "Collecting numpy>=1.15.0 (from pymc==5.8.0)\n",
            "  Downloading numpy-1.24.4-cp310-cp310-manylinux_2_17_x86_64.manylinux2014_x86_64.whl (17.3 MB)\n",
            "\u001b[2K     \u001b[90m━━━━━━━━━━━━━━━━━━━━━━━━━━━━━━━━━━━━━━━━\u001b[0m \u001b[32m17.3/17.3 MB\u001b[0m \u001b[31m31.9 MB/s\u001b[0m eta \u001b[36m0:00:00\u001b[0m\n",
            "\u001b[?25hRequirement already satisfied: scikit-learn>=1.0.2 in /usr/local/lib/python3.10/dist-packages (from kulprit==0.0.1) (1.2.2)\n",
            "Requirement already satisfied: pyarrow>=12.0.0 in /usr/local/lib/python3.10/dist-packages (from nutpie==0.9.1) (14.0.2)\n",
            "Requirement already satisfied: h5py in /usr/local/lib/python3.10/dist-packages (from h5netcdf>=1.0.2->arviz==0.16.1) (3.9.0)\n",
            "Requirement already satisfied: contourpy>=1.0.1 in /usr/local/lib/python3.10/dist-packages (from matplotlib>=3.2->arviz==0.16.1) (1.2.1)\n",
            "Requirement already satisfied: cycler>=0.10 in /usr/local/lib/python3.10/dist-packages (from matplotlib>=3.2->arviz==0.16.1) (0.12.1)\n",
            "Requirement already satisfied: fonttools>=4.22.0 in /usr/local/lib/python3.10/dist-packages (from matplotlib>=3.2->arviz==0.16.1) (4.53.0)\n",
            "Requirement already satisfied: kiwisolver>=1.0.1 in /usr/local/lib/python3.10/dist-packages (from matplotlib>=3.2->arviz==0.16.1) (1.4.5)\n",
            "Requirement already satisfied: pillow>=6.2.0 in /usr/local/lib/python3.10/dist-packages (from matplotlib>=3.2->arviz==0.16.1) (9.4.0)\n",
            "Requirement already satisfied: pyparsing>=2.3.1 in /usr/local/lib/python3.10/dist-packages (from matplotlib>=3.2->arviz==0.16.1) (3.1.2)\n",
            "Requirement already satisfied: python-dateutil>=2.7 in /usr/local/lib/python3.10/dist-packages (from matplotlib>=3.2->arviz==0.16.1) (2.8.2)\n",
            "Requirement already satisfied: llvmlite<0.42,>=0.41.0dev0 in /usr/local/lib/python3.10/dist-packages (from numba->pymc-bart==0.5.2) (0.41.1)\n",
            "Requirement already satisfied: pytz>=2020.1 in /usr/local/lib/python3.10/dist-packages (from pandas>=0.24.0->pymc==5.8.0) (2023.4)\n",
            "Requirement already satisfied: tzdata>=2022.1 in /usr/local/lib/python3.10/dist-packages (from pandas>=0.24.0->pymc==5.8.0) (2024.1)\n",
            "Requirement already satisfied: filelock in /usr/local/lib/python3.10/dist-packages (from pytensor<2.16,>=2.15.0->pymc==5.8.0) (3.14.0)\n",
            "Requirement already satisfied: etuples in /usr/local/lib/python3.10/dist-packages (from pytensor<2.16,>=2.15.0->pymc==5.8.0) (0.3.9)\n",
            "Requirement already satisfied: logical-unification in /usr/local/lib/python3.10/dist-packages (from pytensor<2.16,>=2.15.0->pymc==5.8.0) (0.4.6)\n",
            "Requirement already satisfied: miniKanren in /usr/local/lib/python3.10/dist-packages (from pytensor<2.16,>=2.15.0->pymc==5.8.0) (1.0.3)\n",
            "Requirement already satisfied: cons in /usr/local/lib/python3.10/dist-packages (from pytensor<2.16,>=2.15.0->pymc==5.8.0) (0.4.6)\n",
            "Requirement already satisfied: joblib>=1.1.1 in /usr/local/lib/python3.10/dist-packages (from scikit-learn>=1.0.2->kulprit==0.0.1) (1.4.2)\n",
            "Requirement already satisfied: threadpoolctl>=2.0.0 in /usr/local/lib/python3.10/dist-packages (from scikit-learn>=1.0.2->kulprit==0.0.1) (3.5.0)\n",
            "Requirement already satisfied: six>=1.5 in /usr/local/lib/python3.10/dist-packages (from python-dateutil>=2.7->matplotlib>=3.2->arviz==0.16.1) (1.16.0)\n",
            "Requirement already satisfied: toolz in /usr/local/lib/python3.10/dist-packages (from logical-unification->pytensor<2.16,>=2.15.0->pymc==5.8.0) (0.12.1)\n",
            "Requirement already satisfied: multipledispatch in /usr/local/lib/python3.10/dist-packages (from logical-unification->pytensor<2.16,>=2.15.0->pymc==5.8.0) (1.0.0)\n",
            "Installing collected packages: numpy, formulae, pytensor, arviz, pymc, preliz, nutpie, pymc-bart, bambi, kulprit\n",
            "  Attempting uninstall: numpy\n",
            "    Found existing installation: numpy 1.25.2\n",
            "    Uninstalling numpy-1.25.2:\n",
            "      Successfully uninstalled numpy-1.25.2\n",
            "  Attempting uninstall: pytensor\n",
            "    Found existing installation: pytensor 2.18.6\n",
            "    Uninstalling pytensor-2.18.6:\n",
            "      Successfully uninstalled pytensor-2.18.6\n",
            "  Attempting uninstall: arviz\n",
            "    Found existing installation: arviz 0.15.1\n",
            "    Uninstalling arviz-0.15.1:\n",
            "      Successfully uninstalled arviz-0.15.1\n",
            "  Attempting uninstall: pymc\n",
            "    Found existing installation: pymc 5.10.4\n",
            "    Uninstalling pymc-5.10.4:\n",
            "      Successfully uninstalled pymc-5.10.4\n",
            "\u001b[31mERROR: pip's dependency resolver does not currently take into account all the packages that are installed. This behaviour is the source of the following dependency conflicts.\n",
            "pandas-stubs 2.0.3.230814 requires numpy>=1.25.0; python_version >= \"3.9\", but you have numpy 1.24.4 which is incompatible.\u001b[0m\u001b[31m\n",
            "\u001b[0mSuccessfully installed arviz-0.16.1 bambi-0.13.0 formulae-0.5.3 kulprit-0.0.1 numpy-1.24.4 nutpie-0.9.1 preliz-0.3.6 pymc-5.8.0 pymc-bart-0.5.2 pytensor-2.15.0\n"
          ]
        },
        {
          "output_type": "display_data",
          "data": {
            "application/vnd.colab-display-data+json": {
              "pip_warning": {
                "packages": [
                  "numpy"
                ]
              },
              "id": "3d78d4535bfb42ea8e82effdd92e95a4"
            }
          },
          "metadata": {}
        }
      ]
    },
    {
      "cell_type": "code",
      "source": [
        "# Import necessary libraries\n",
        "import arviz as az  # For Bayesian data analysis and visualization\n",
        "import matplotlib.pyplot as plt  # For plotting\n",
        "import numpy as np  # For numerical operations\n",
        "from scipy.special import binom, beta  # For binomial and beta distributions\n",
        "import preliz as pz # defining priors\n",
        "from cycler import cycler\n",
        "import math"
      ],
      "metadata": {
        "id": "YMiMLQnG76xo"
      },
      "execution_count": null,
      "outputs": []
    },
    {
      "cell_type": "code",
      "source": [
        "alpha = 2.5\n",
        "beta = 3.61\n",
        "\n",
        "pz.Beta(alpha, beta).plot_pdf()"
      ],
      "metadata": {
        "colab": {
          "base_uri": "https://localhost:8080/",
          "height": 447
        },
        "id": "OwAUYSA878FY",
        "outputId": "cc738295-87d4-4845-aace-095bcff93583"
      },
      "execution_count": null,
      "outputs": [
        {
          "output_type": "execute_result",
          "data": {
            "text/plain": [
              "<Axes: >"
            ]
          },
          "metadata": {},
          "execution_count": 5
        },
        {
          "output_type": "display_data",
          "data": {
            "text/plain": [
              "<Figure size 640x480 with 1 Axes>"
            ],
            "image/png": "[encoded data removed]"
          },
          "metadata": {}
        }
      ]
    }
  ]
}